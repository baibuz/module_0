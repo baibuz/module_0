{
 "cells": [
  {
   "cell_type": "markdown",
   "metadata": {},
   "source": [
    "# Simple notebook for \"Guess the number\" game\n",
    "by Ekaterina Baibuz and Skill Factory"
   ]
  },
  {
   "cell_type": "markdown",
   "metadata": {},
   "source": [
    "This notebook aims to illustrate different implementations of \"Guess the number\" game:\n",
    "1. Number is guessed randomly in a loop within the whole interval until the guess is correct\n",
    "2. Number is guessed randomly, compared with the correct number if it's larger or smaller,  and then incremented or decremented until the number is guessed correctly\n",
    "3. Number is guessed randomly in a loop, but not within the whole interval, but depending on wether the guess is larger or smaller than the number\n",
    "4. Number is guessed according to binary search algorithm "
   ]
  },
  {
   "cell_type": "code",
   "execution_count": 68,
   "metadata": {},
   "outputs": [],
   "source": [
    "import numpy as np\n",
    "def make_guess(min,max):\n",
    "    '''\n",
    "    This function makes a guess in the given interval,\n",
    "    including min and max vales\n",
    "    '''\n",
    "    return np.random.randint(min,max+1) \n",
    "def game_core_v1(number):\n",
    "    '''\n",
    "    This function tries to guess the number in the interval from 1 to 100 \n",
    "    with random guesses until the number is guessed correctly,\n",
    "    returns number of guesses\n",
    "    '''\n",
    "    count = 0\n",
    "    while True:\n",
    "        count+=1\n",
    "        predict = make_guess(1,100) # предполагаемое число\n",
    "        if number == predict: \n",
    "            return(count) # выход из цикла, если угадали\n",
    "        \n",
    "def game_core_v2(number):\n",
    "    '''\n",
    "    This function tries to guess the number in the interval from 1 to 100 \n",
    "    by guessing the random number in the first iteration, then \n",
    "    either increasing or decreasing the guessed number by 1,\n",
    "    until the guess is correct,\n",
    "    returns number of guesses\n",
    "    '''\n",
    "    count = 1\n",
    "    predict = make_guess(1,100)\n",
    "    while number != predict:\n",
    "        count+=1\n",
    "        if number > predict: \n",
    "            predict += 1\n",
    "        elif number < predict: \n",
    "            predict -= 1\n",
    "    return(count) # выход из цикла, если угадали\n",
    "\n",
    "def game_core_v3(number):\n",
    "    '''\n",
    "    This function tries to guess the number in the interval from 1 to 100 \n",
    "    by guessing the random number in the first iteration, then \n",
    "    guessing it in the interval [1,guess) or (guess,100 ], \n",
    "    depending on wether guessed number > or smaller than the correct number,\n",
    "    returns number of guesses\n",
    "    '''\n",
    "    count = 0\n",
    "    predict = make_guess(1,100) \n",
    "    while True:\n",
    "        count+=1\n",
    "        if predict > number:           \n",
    "            predict = make_guess(1,predict-1) \n",
    "        elif predict < number:\n",
    "            predict = make_guess(predict+1,100) \n",
    "        else: # if predict == number\n",
    "            return(count) \n",
    "        \n",
    "def game_core_binary(number,count = 0, min = 1,max = 100):\n",
    "    '''\n",
    "    This function guesses the number according to the binary search algorithm\n",
    "    number - number to be found in the interval [min,max]\n",
    "    count - current value of the current, incremented each time the funtion is called   \n",
    "    '''\n",
    "    # first guess is the middle of the interval:\n",
    "    count += 1\n",
    "    predict = (max+min) // 2 \n",
    "    if predict > number:           \n",
    "        return game_core_binary(number,count,min, predict-1) \n",
    "    elif predict < number:\n",
    "        return game_core_binary(number,count, predict+1,max) \n",
    "    else: # if predict == number\n",
    "        return(count)\n",
    "    \n",
    "def score_game(game_core):\n",
    "    '''Запускаем игру 1000 раз, чтобы узнать, как быстро игра угадывает число'''\n",
    "    count_ls = []\n",
    "    np.random.seed(1)  # фиксируем RANDOM SEED, чтобы ваш эксперимент был воспроизводим!\n",
    "    random_array = np.random.randint(1,101, size=(1000))\n",
    "    for number in random_array:\n",
    "        count_ls.append(game_core(number))\n",
    "    return(int(np.mean(count_ls)))"
   ]
  },
  {
   "cell_type": "code",
   "execution_count": 69,
   "metadata": {},
   "outputs": [
    {
     "name": "stdout",
     "output_type": "stream",
     "text": [
      "Approach 1 guesses the number in 101 turns on average\n",
      "Approach 2 guesses the number in 33 turns on average\n",
      "Approach 3 guesses the number in 48 turns on average\n",
      "Binary approach guesses the number in 5 turns on average\n"
     ]
    }
   ],
   "source": [
    "# Testing different approaches\n",
    "print(\"Approach 1 guesses the number in %i turns on average\"%score_game(game_core_v1))\n",
    "score_game(game_core_v1)\n",
    "print(\"Approach 2 guesses the number in %i turns on average\"%score_game(game_core_v2))\n",
    "print(\"Approach 3 guesses the number in %i turns on average\"%score_game(game_core_v3))\n",
    "print(\"Binary approach guesses the number in %i turns on average\"%score_game(game_core_binary))\n"
   ]
  },
  {
   "cell_type": "markdown",
   "metadata": {},
   "source": [
    "### Binary search algorithm is significantly faster than any of the others"
   ]
  },
  {
   "cell_type": "code",
   "execution_count": null,
   "metadata": {},
   "outputs": [],
   "source": []
  }
 ],
 "metadata": {
  "kernelspec": {
   "display_name": "Python 3",
   "language": "python",
   "name": "python3"
  },
  "language_info": {
   "codemirror_mode": {
    "name": "ipython",
    "version": 3
   },
   "file_extension": ".py",
   "mimetype": "text/x-python",
   "name": "python",
   "nbconvert_exporter": "python",
   "pygments_lexer": "ipython3",
   "version": "3.9.0"
  }
 },
 "nbformat": 4,
 "nbformat_minor": 4
}
